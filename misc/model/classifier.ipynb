{
 "cells": [
  {
   "cell_type": "code",
   "execution_count": null,
   "metadata": {},
   "outputs": [],
   "source": [
    "!ssh-keygen -t rsa\n",
    "!ssh-keyscan -t rsa github.com >> ~/.ssh/known_hosts\n",
    "!clear\n",
    "!echo \"PUBLIC KEY: (for github.com)\"\n",
    "!cat /root/.ssh/id_rsa.pub"
   ]
  },
  {
   "cell_type": "code",
   "execution_count": null,
   "metadata": {},
   "outputs": [],
   "source": [
    "!git clone git@github.com:l-ouis/ArtiVision.git\n",
    "!git config --global user.email \"colab_bot@brown.edu\"\n",
    "!git config --global user.name \"Colab Bot\""
   ]
  }
 ],
 "metadata": {
  "language_info": {
   "name": "python"
  }
 },
 "nbformat": 4,
 "nbformat_minor": 2
}
