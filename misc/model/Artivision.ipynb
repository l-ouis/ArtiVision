{
  "cells": [
    {
      "cell_type": "markdown",
      "metadata": {
        "id": "hh8PcMToQIYP"
      },
      "source": [
        "CS1430 final project (artivision)"
      ]
    },
    {
      "cell_type": "markdown",
      "metadata": {
        "id": "0951ftscRBsW"
      },
      "source": [
        "**General notes and commands**\n",
        "\n",
        "Notes:\n",
        "*   Make sure to switch runtime to T4 GPU *before* running commands\n",
        "\n",
        "Commands (git pull):"
      ]
    },
    {
      "cell_type": "code",
      "execution_count": null,
      "metadata": {
        "colab": {
          "base_uri": "https://localhost:8080/"
        },
        "id": "sk15RCGQNEY6",
        "outputId": "4a70a62e-0922-42b4-94f2-205e5a39a505"
      },
      "outputs": [],
      "source": [
        "!ssh-keygen -t rsa\n",
        "!ssh-keyscan -t rsa github.com >> ~/.ssh/known_hosts\n",
        "!clear\n",
        "!echo \"PUBLIC KEY: (for github.com)\"\n",
        "!cat /root/.ssh/id_rsa.pub"
      ]
    },
    {
      "cell_type": "code",
      "execution_count": null,
      "metadata": {
        "colab": {
          "base_uri": "https://localhost:8080/"
        },
        "id": "9qodiUATNIfL",
        "outputId": "729e2980-1e53-4a58-f2c0-52a4094f7e51"
      },
      "outputs": [],
      "source": [
        "!git clone git@github.com:l-ouis/ArtiVision.git\n",
        "!git config --global user.email \"colab_bot@brown.edu\"\n",
        "!git config --global user.name \"Colab Bot\""
      ]
    },
    {
      "cell_type": "code",
      "execution_count": null,
      "metadata": {
        "colab": {
          "base_uri": "https://localhost:8080/"
        },
        "id": "VTxbjEXKRF1A",
        "outputId": "e63ebb81-58af-4b42-fd73-25e0984e7fec"
      },
      "outputs": [],
      "source": [
        "!git pull\n",
        "!cd ArtiVision"
      ]
    },
    {
      "cell_type": "markdown",
      "metadata": {
        "id": "CGREmZuwQasd"
      },
      "source": [
        "Clone repo:"
      ]
    },
    {
      "cell_type": "code",
      "execution_count": null,
      "metadata": {
        "colab": {
          "base_uri": "https://localhost:8080/"
        },
        "id": "30_i-6K5QMs8",
        "outputId": "0aee126b-9f32-4736-849f-5d9c24cf1813"
      },
      "outputs": [],
      "source": [
        "!git clone https://github.com/l-ouis/ArtiVision"
      ]
    },
    {
      "cell_type": "code",
      "execution_count": null,
      "metadata": {
        "colab": {
          "base_uri": "https://localhost:8080/"
        },
        "id": "T8GvnhZTSNau",
        "outputId": "5699ddc7-d00e-4e61-b5c5-63112853cfdf"
      },
      "outputs": [],
      "source": [
        "%cd ArtiVision\n",
        "!ls"
      ]
    },
    {
      "cell_type": "markdown",
      "metadata": {
        "id": "urh9y6CVQb7l"
      },
      "source": [
        "Download the dataset from kaggle"
      ]
    },
    {
      "cell_type": "code",
      "execution_count": null,
      "metadata": {
        "colab": {
          "base_uri": "https://localhost:8080/"
        },
        "id": "bcXvrTBkQYQ6",
        "outputId": "83cbbc76-1dd0-4336-e580-641b56d7aedb"
      },
      "outputs": [],
      "source": [
        "%mkdir 'wiki_data'\n",
        "%cd 'wiki_data'\n",
        "!kaggle datasets download -d simolopes/wikiart-all-artpieces"
      ]
    },
    {
      "cell_type": "markdown",
      "metadata": {
        "id": "NfE3-uyuReBN"
      },
      "source": [
        "change the name of the zip to archive.zip (you may have to edit this one)"
      ]
    },
    {
      "cell_type": "code",
      "execution_count": null,
      "metadata": {
        "id": "CiIJLryyRwxL"
      },
      "outputs": [],
      "source": [
        "!mv wikiart-all-artpieces.zip archive.zip"
      ]
    },
    {
      "cell_type": "markdown",
      "metadata": {
        "id": "b4opBVqzQlrD"
      },
      "source": [
        "unzip 🥶"
      ]
    },
    {
      "cell_type": "code",
      "execution_count": null,
      "metadata": {
        "colab": {
          "base_uri": "https://localhost:8080/"
        },
        "id": "0c3pzrnaQx5H",
        "outputId": "ca6f1f67-f425-46e5-976f-6e87a9609716"
      },
      "outputs": [],
      "source": [
        "!unzip archive.zip\n",
        "%cd .."
      ]
    },
    {
      "cell_type": "markdown",
      "metadata": {
        "id": "cYLjAx4YQ12x"
      },
      "source": [
        "Run the two preprocessing data scripts"
      ]
    },
    {
      "cell_type": "code",
      "execution_count": null,
      "metadata": {
        "colab": {
          "base_uri": "https://localhost:8080/"
        },
        "id": "2Oi0Ei3RQ4J5",
        "outputId": "70a43b76-61bd-4bbd-f7d0-c51c4184c9d6"
      },
      "outputs": [],
      "source": [
        "!python '1group by style.py'"
      ]
    },
    {
      "cell_type": "code",
      "execution_count": null,
      "metadata": {
        "colab": {
          "base_uri": "https://localhost:8080/"
        },
        "id": "X7RrAPZwWQ5v",
        "outputId": "c594f1a1-3d25-45a1-ff5f-e93ff4b885c4"
      },
      "outputs": [],
      "source": [
        "!python '2 split to train test.py'"
      ]
    },
    {
      "cell_type": "markdown",
      "metadata": {
        "id": "rxzc50ezgo5T"
      },
      "source": [
        "run it up"
      ]
    },
    {
      "cell_type": "code",
      "execution_count": null,
      "metadata": {
        "colab": {
          "base_uri": "https://localhost:8080/"
        },
        "id": "tRvywPKignYz",
        "outputId": "32b18ae8-c972-4154-f00d-72525b4796c9"
      },
      "outputs": [],
      "source": [
        "!python code/main.py 1 data"
      ]
    }
  ],
  "metadata": {
    "accelerator": "GPU",
    "colab": {
      "gpuType": "T4",
      "provenance": []
    },
    "kernelspec": {
      "display_name": "Python 3",
      "name": "python3"
    },
    "language_info": {
      "name": "python"
    }
  },
  "nbformat": 4,
  "nbformat_minor": 0
}
